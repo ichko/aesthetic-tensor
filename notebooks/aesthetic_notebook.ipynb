{
 "cells": [
  {
   "cell_type": "code",
   "execution_count": 1,
   "id": "43344809",
   "metadata": {},
   "outputs": [],
   "source": [
    "%load_ext autoreload\n",
    "%autoreload 2"
   ]
  },
  {
   "cell_type": "code",
   "execution_count": 2,
   "id": "eff0f7bd",
   "metadata": {},
   "outputs": [],
   "source": [
    "import torch\n",
    "\n",
    "import aesthetic_tensor as ae\n",
    "\n",
    "ae.aesthetify()"
   ]
  },
  {
   "cell_type": "code",
   "execution_count": 3,
   "id": "db22356e",
   "metadata": {},
   "outputs": [
    {
     "data": {
      "text/plain": [
       "\u001b[1mfloat32\u001b[0m<\u001b[1m2, 16, 16\u001b[0m>∈[\u001b[1m0.002, 1.000\u001b[0m] | μ=\u001b[1m0.511\u001b[0m, σ=\u001b[1m0.291\u001b[0m"
      ]
     },
     "execution_count": 3,
     "metadata": {},
     "output_type": "execute_result"
    }
   ],
   "source": [
    "A = torch.rand(2, 16, 16)\n",
    "A.ae"
   ]
  },
  {
   "cell_type": "code",
   "execution_count": 4,
   "id": "b7212739",
   "metadata": {},
   "outputs": [],
   "source": [
    "# torch.randn(10, 10).ae.hist"
   ]
  },
  {
   "cell_type": "code",
   "execution_count": 5,
   "id": "e88eeb13",
   "metadata": {},
   "outputs": [],
   "source": [
    "# torch.randn(6, 1000).ae.N.hist.nb(ncol=3)"
   ]
  },
  {
   "cell_type": "code",
   "execution_count": 6,
   "id": "3e70e6b6",
   "metadata": {},
   "outputs": [],
   "source": [
    "# torch.rand(3, 10, 10).ae.N.cmap('jet', dim=0).zoom(10).hwc.pil.nb()"
   ]
  },
  {
   "cell_type": "code",
   "execution_count": 7,
   "id": "261a8967",
   "metadata": {},
   "outputs": [],
   "source": [
    "# torch.rand(3, 10, 100).ae.N.imshow.nb(ncol=1)"
   ]
  },
  {
   "cell_type": "code",
   "execution_count": 8,
   "id": "2f8780dc",
   "metadata": {},
   "outputs": [
    {
     "data": {
      "text/plain": [
       "slice(0, 1, None)"
      ]
     },
     "execution_count": 8,
     "metadata": {},
     "output_type": "execute_result"
    }
   ],
   "source": [
    "slice(0, 1)"
   ]
  },
  {
   "cell_type": "code",
   "execution_count": 9,
   "id": "5d749e80",
   "metadata": {},
   "outputs": [
    {
     "data": {
      "application/vnd.jupyter.widget-view+json": {
       "model_id": "d867ba9fa5e04e91b2c7f0e83245b08b",
       "version_major": 2,
       "version_minor": 0
      },
      "text/plain": [
       "Output()"
      ]
     },
     "metadata": {},
     "output_type": "display_data"
    }
   ],
   "source": [
    "obs = torch.randn(3, 100).ae.live.N[:50].plot(figsize=(6, 1)).nb(ncol=1)\n",
    "obs"
   ]
  },
  {
   "cell_type": "code",
   "execution_count": 16,
   "id": "ae8ed22b",
   "metadata": {},
   "outputs": [
    {
     "data": {
      "application/vnd.jupyter.widget-view+json": {
       "model_id": "79d36bb6285f4497b45f487ad5dd6c3e",
       "version_major": 2,
       "version_minor": 0
      },
      "text/plain": [
       "IntSlider(value=30)"
      ]
     },
     "metadata": {},
     "output_type": "display_data"
    }
   ],
   "source": [
    "slider = ae.ipw.IntSlider(value=30)\n",
    "slider"
   ]
  },
  {
   "cell_type": "code",
   "execution_count": 71,
   "id": "dc19ddf8",
   "metadata": {},
   "outputs": [],
   "source": [
    "T = torch.randn(100, 30, 30).ae.N.imshow(figsize=(3, 3))"
   ]
  },
  {
   "cell_type": "code",
   "execution_count": 72,
   "id": "ef8ab9b2",
   "metadata": {},
   "outputs": [
    {
     "data": {
      "application/vnd.jupyter.widget-view+json": {
       "model_id": "a08fa0a8af3f48ecbd9b93176bbba5d1",
       "version_major": 2,
       "version_minor": 0
      },
      "text/plain": [
       "Output()"
      ]
     },
     "metadata": {},
     "output_type": "display_data"
    }
   ],
   "source": [
    "ae.hook(lambda s: T.raw[s], slider)"
   ]
  },
  {
   "cell_type": "code",
   "execution_count": 70,
   "id": "83dfd5d3",
   "metadata": {},
   "outputs": [
    {
     "data": {
      "application/vnd.jupyter.widget-view+json": {
       "model_id": "ccb3a6abec444cbeadbaeb68404504e2",
       "version_major": 2,
       "version_minor": 0
      },
      "text/plain": [
       "Output()"
      ]
     },
     "metadata": {},
     "output_type": "display_data"
    }
   ],
   "source": [
    "torch.randn(100, 30, 30).ae.hook(slider, lambda T, s: T[s].imshow(figsize=(3, 3)))"
   ]
  },
  {
   "cell_type": "code",
   "execution_count": null,
   "id": "6b2bb174",
   "metadata": {},
   "outputs": [],
   "source": []
  },
  {
   "cell_type": "code",
   "execution_count": null,
   "id": "89b6759c",
   "metadata": {},
   "outputs": [],
   "source": []
  },
  {
   "cell_type": "code",
   "execution_count": null,
   "id": "eadbd734",
   "metadata": {},
   "outputs": [],
   "source": []
  },
  {
   "cell_type": "code",
   "execution_count": null,
   "id": "03aee5ec",
   "metadata": {},
   "outputs": [],
   "source": []
  }
 ],
 "metadata": {
  "kernelspec": {
   "display_name": "Python 3 (ipykernel)",
   "language": "python",
   "name": "python3"
  },
  "language_info": {
   "codemirror_mode": {
    "name": "ipython",
    "version": 3
   },
   "file_extension": ".py",
   "mimetype": "text/x-python",
   "name": "python",
   "nbconvert_exporter": "python",
   "pygments_lexer": "ipython3",
   "version": "3.10.6"
  }
 },
 "nbformat": 4,
 "nbformat_minor": 5
}
