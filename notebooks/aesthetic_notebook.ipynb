{
 "cells": [
  {
   "cell_type": "code",
   "execution_count": null,
   "id": "43344809",
   "metadata": {},
   "outputs": [],
   "source": [
    "%load_ext autoreload\n",
    "%autoreload 2"
   ]
  },
  {
   "cell_type": "code",
   "execution_count": null,
   "id": "eff0f7bd",
   "metadata": {},
   "outputs": [],
   "source": [
    "import torch\n",
    "\n",
    "import aesthetic_tensor as ae\n",
    "\n",
    "ae.aesthetify()"
   ]
  },
  {
   "cell_type": "code",
   "execution_count": null,
   "id": "db22356e",
   "metadata": {},
   "outputs": [],
   "source": [
    "A = torch.rand(2, 16, 16)\n",
    "A.ae"
   ]
  },
  {
   "cell_type": "code",
   "execution_count": null,
   "id": "be4b266b",
   "metadata": {},
   "outputs": [],
   "source": [
    "A = torch.rand(6, 3, 10, 10)"
   ]
  },
  {
   "cell_type": "code",
   "execution_count": null,
   "id": "e4179b98",
   "metadata": {},
   "outputs": [],
   "source": [
    "%matplotlib inline"
   ]
  },
  {
   "cell_type": "code",
   "execution_count": null,
   "id": "c567acab",
   "metadata": {},
   "outputs": [],
   "source": [
    "A.ae.N.hwc.imshow().nb(ncol=3)"
   ]
  },
  {
   "cell_type": "code",
   "execution_count": null,
   "id": "b7212739",
   "metadata": {},
   "outputs": [],
   "source": [
    "A.ae.N.zoom(20).uint8.hwc.pil.nb()"
   ]
  },
  {
   "cell_type": "code",
   "execution_count": null,
   "id": "b5962bcd",
   "metadata": {},
   "outputs": [],
   "source": [
    "slider = ae.ipw.IntSlider(min=0, max=400, value=30)\n",
    "slider"
   ]
  },
  {
   "cell_type": "code",
   "execution_count": null,
   "id": "66e4017e",
   "metadata": {},
   "outputs": [],
   "source": [
    "(torch.linspace(0, 100, 500).sin()).ae.hook(slider, lambda T, s: T[s:s+50].plot(figsize=(6, 2)))"
   ]
  },
  {
   "cell_type": "code",
   "execution_count": null,
   "id": "e88eeb13",
   "metadata": {},
   "outputs": [],
   "source": [
    "# torch.randn(6, 1000).ae.N.hist.nb(ncol=3)"
   ]
  },
  {
   "cell_type": "code",
   "execution_count": null,
   "id": "3e70e6b6",
   "metadata": {},
   "outputs": [],
   "source": [
    "# torch.rand(3, 10, 10).ae.N.cmap('jet', dim=0).zoom(10).hwc.pil.nb()"
   ]
  },
  {
   "cell_type": "code",
   "execution_count": null,
   "id": "261a8967",
   "metadata": {},
   "outputs": [],
   "source": [
    "# torch.rand(3, 10, 100).ae.N.imshow.nb(ncol=1)"
   ]
  },
  {
   "cell_type": "code",
   "execution_count": null,
   "id": "5d749e80",
   "metadata": {},
   "outputs": [],
   "source": [
    "obs = torch.randn(3, 100).ae.live.N[:50].plot(figsize=(6, 1)).nb(ncol=1)\n",
    "obs"
   ]
  },
  {
   "cell_type": "code",
   "execution_count": null,
   "id": "ae8ed22b",
   "metadata": {},
   "outputs": [],
   "source": [
    "slider = ae.ipw.IntSlider(value=30)\n",
    "slider"
   ]
  },
  {
   "cell_type": "code",
   "execution_count": null,
   "id": "7f454f17",
   "metadata": {},
   "outputs": [],
   "source": []
  },
  {
   "cell_type": "code",
   "execution_count": null,
   "id": "dc19ddf8",
   "metadata": {},
   "outputs": [],
   "source": [
    "T = torch.randn(100, 30, 30).ae.N.imshow(figsize=(3, 3))"
   ]
  },
  {
   "cell_type": "code",
   "execution_count": null,
   "id": "19d531ae",
   "metadata": {},
   "outputs": [],
   "source": [
    "ae.hook(slider, lambda s: T.raw[s])"
   ]
  },
  {
   "cell_type": "code",
   "execution_count": null,
   "id": "69048c73",
   "metadata": {},
   "outputs": [],
   "source": [
    "torch.randn(100, 30, 30).ae.hook(slider, lambda T, s: T[s].imshow(figsize=(3, 3)))"
   ]
  },
  {
   "cell_type": "code",
   "execution_count": null,
   "id": "6b2bb174",
   "metadata": {},
   "outputs": [],
   "source": [
    "torch.randn(3, 30, 30).ae.N.cmap(dim=0).zoom(10).hwc.pil.nb()"
   ]
  },
  {
   "cell_type": "code",
   "execution_count": null,
   "id": "d89f3c90",
   "metadata": {},
   "outputs": [],
   "source": []
  },
  {
   "cell_type": "code",
   "execution_count": null,
   "id": "9b61ffab",
   "metadata": {},
   "outputs": [],
   "source": [
    "L = torch.rand(3, 10, 10).ae.live.N.imshow(cmap='Blues').nb().display()"
   ]
  },
  {
   "cell_type": "code",
   "execution_count": null,
   "id": "76346eb7",
   "metadata": {},
   "outputs": [],
   "source": [
    "L.update(torch.randn(10, 10, 10).ae)"
   ]
  },
  {
   "cell_type": "code",
   "execution_count": null,
   "id": "759f92e7",
   "metadata": {},
   "outputs": [],
   "source": []
  },
  {
   "cell_type": "code",
   "execution_count": null,
   "id": "81adb848",
   "metadata": {},
   "outputs": [],
   "source": [
    "T1 = torch.rand(1, 10, 10)\n",
    "T2 = torch.rand(1, 10, 10)\n",
    "l = torch.linspace(0, torch.pi*2, 200).sin().view(-1, 1, 1)\n",
    "R = (T1 * l + (1 - l) * T2).ae"
   ]
  },
  {
   "cell_type": "code",
   "execution_count": null,
   "id": "1a3fc834",
   "metadata": {},
   "outputs": [],
   "source": [
    "R.N.cmap('Blues', dim=0).zoom(10).hwc.N.gif"
   ]
  },
  {
   "cell_type": "code",
   "execution_count": null,
   "id": "07efc887",
   "metadata": {},
   "outputs": [],
   "source": []
  },
  {
   "cell_type": "code",
   "execution_count": null,
   "id": "03aee5ec",
   "metadata": {},
   "outputs": [],
   "source": []
  }
 ],
 "metadata": {
  "kernelspec": {
   "display_name": "Python 3 (ipykernel)",
   "language": "python",
   "name": "python3"
  },
  "language_info": {
   "codemirror_mode": {
    "name": "ipython",
    "version": 3
   },
   "file_extension": ".py",
   "mimetype": "text/x-python",
   "name": "python",
   "nbconvert_exporter": "python",
   "pygments_lexer": "ipython3",
   "version": "3.10.6"
  }
 },
 "nbformat": 4,
 "nbformat_minor": 5
}
