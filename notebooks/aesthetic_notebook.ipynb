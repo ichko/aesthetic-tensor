{
 "cells": [
  {
   "cell_type": "code",
   "execution_count": 113,
   "id": "43344809",
   "metadata": {},
   "outputs": [
    {
     "name": "stdout",
     "output_type": "stream",
     "text": [
      "The autoreload extension is already loaded. To reload it, use:\n",
      "  %reload_ext autoreload\n"
     ]
    }
   ],
   "source": [
    "%load_ext autoreload\n",
    "%autoreload 2"
   ]
  },
  {
   "cell_type": "code",
   "execution_count": 114,
   "id": "eff0f7bd",
   "metadata": {},
   "outputs": [],
   "source": [
    "import torch\n",
    "\n",
    "from aesthetic_tensor import aesthetify\n",
    "\n",
    "aesthetify()"
   ]
  },
  {
   "cell_type": "code",
   "execution_count": 115,
   "id": "db22356e",
   "metadata": {},
   "outputs": [
    {
     "data": {
      "text/plain": [
       "\u001b[1mfloat32\u001b[0m<\u001b[1m2, 16, 16\u001b[0m>∈[\u001b[1m0.00523, 0.99978\u001b[0m] | μ=\u001b[1m0.50471\u001b[0m, σ=\u001b[1m0.29777\u001b[0m"
      ]
     },
     "execution_count": 115,
     "metadata": {},
     "output_type": "execute_result"
    }
   ],
   "source": [
    "A = torch.rand(2, 16, 16)\n",
    "A.ae"
   ]
  },
  {
   "cell_type": "code",
   "execution_count": 116,
   "id": "b7212739",
   "metadata": {},
   "outputs": [],
   "source": [
    "# torch.randn(10, 10).ae.hist"
   ]
  },
  {
   "cell_type": "code",
   "execution_count": 117,
   "id": "e88eeb13",
   "metadata": {},
   "outputs": [],
   "source": [
    "# torch.randn(6, 1000).ae.N.hist.nb(ncol=3)"
   ]
  },
  {
   "cell_type": "code",
   "execution_count": 118,
   "id": "3e70e6b6",
   "metadata": {},
   "outputs": [],
   "source": [
    "# torch.rand(3, 10, 10).ae.N.cmap('jet', dim=0).zoom(10).hwc.pil.nb()"
   ]
  },
  {
   "cell_type": "code",
   "execution_count": 119,
   "id": "261a8967",
   "metadata": {},
   "outputs": [],
   "source": [
    "# torch.rand(3, 10, 100).ae.N.imshow.nb(ncol=1)"
   ]
  },
  {
   "cell_type": "code",
   "execution_count": 163,
   "id": "5d749e80",
   "metadata": {},
   "outputs": [
    {
     "data": {
      "application/vnd.jupyter.widget-view+json": {
       "model_id": "ccce41e52f14484ab3af5a0141af6d12",
       "version_major": 2,
       "version_minor": 0
      },
      "text/plain": [
       "Output()"
      ]
     },
     "metadata": {},
     "output_type": "display_data"
    }
   ],
   "source": [
    "obs = torch.rand(3, 10).ae.observe.N.plot.nb()\n",
    "obs"
   ]
  },
  {
   "cell_type": "code",
   "execution_count": 165,
   "id": "891f23dd",
   "metadata": {},
   "outputs": [],
   "source": [
    "obs.update(torch.rand(3, 10).ae)"
   ]
  },
  {
   "cell_type": "code",
   "execution_count": null,
   "id": "de0234fc",
   "metadata": {},
   "outputs": [],
   "source": []
  },
  {
   "cell_type": "code",
   "execution_count": null,
   "id": "aaab2a65",
   "metadata": {},
   "outputs": [],
   "source": []
  },
  {
   "cell_type": "code",
   "execution_count": null,
   "id": "a409ebb8",
   "metadata": {},
   "outputs": [],
   "source": []
  }
 ],
 "metadata": {
  "kernelspec": {
   "display_name": "Python 3 (ipykernel)",
   "language": "python",
   "name": "python3"
  },
  "language_info": {
   "codemirror_mode": {
    "name": "ipython",
    "version": 3
   },
   "file_extension": ".py",
   "mimetype": "text/x-python",
   "name": "python",
   "nbconvert_exporter": "python",
   "pygments_lexer": "ipython3",
   "version": "3.10.6"
  }
 },
 "nbformat": 4,
 "nbformat_minor": 5
}
